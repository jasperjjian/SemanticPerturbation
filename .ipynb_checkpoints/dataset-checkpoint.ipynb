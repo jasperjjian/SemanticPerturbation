{
 "cells": [
  {
   "cell_type": "code",
   "execution_count": 107,
   "metadata": {},
   "outputs": [],
   "source": [
    "import stanza\n",
    "from stanza.utils.conll import CoNLL\n",
    "from transformers import BertTokenizer, BertModel, pipeline\n",
    "import copy\n",
    "import torch"
   ]
  },
  {
   "cell_type": "code",
   "execution_count": 108,
   "metadata": {},
   "outputs": [],
   "source": [
    "device = torch.device('cuda')"
   ]
  },
  {
   "cell_type": "code",
   "execution_count": 116,
   "metadata": {},
   "outputs": [],
   "source": [
    "# text preprocessing\n",
    "def text_preprocess(filename):\n",
    "    f = open(filename, mode='r')\n",
    "    sent_list = f.readlines()\n",
    "    return sent_list\n",
    "\n",
    "# takes already annotated sentences and turns into a doc if necessary\n",
    "def parse_conll(filename):\n",
    "    doc = CoNLL.conll2doc(filename)\n",
    "    return doc\n",
    "\n",
    "def get_masks(sentences):\n",
    "    \"\"\"\n",
    "    [Sentence] -> {str : [str]}\n",
    "    \"\"\"\n",
    "    masked = {}\n",
    "    for s in sentences:\n",
    "        sent_dict = s.to_dict()\n",
    "        pert = []\n",
    "        for i in range(len(sent_dict)):\n",
    "            if 'upos' in sent_dict[i].keys() and sent_dict[i]['upos'] != 'PUNCT':\n",
    "                dict_copy = copy.deepcopy(sent_dict)\n",
    "                dict_copy[i]['text'] = '[MASK]'\n",
    "                pert.append(''.join([w['text'] + ' ' if 'misc' not in w.keys() and w['id'] != (len(b),) else w['text'] for w in dict_copy]))\n",
    "        masked[s.text] = pert\n",
    "    return masked\n",
    "\n",
    "def fill_masks(sentences, model_version='bert_base_uncased', number_words=20):\n",
    "    \"\"\"\n",
    "    [Sentence] -> {str : (int, str)}\n",
    "    \"\"\"\n",
    "    mask_dict = get_masks(sentences)\n",
    "    unmasker = pipeline('fill-mask', model='bert-base-uncased', tokenizer='bert-base-uncased', device=0)\n",
    "    mask_list = [mask_dict[k] for k in mask_dict.keys()]\n",
    "    filled_list = unmasker(mask_list, top_k=number_words)\n",
    "    filled_list = {mask_list[i] : [(word['score'], word['token_str']) for word in filled_list[i]] for i in range(len(mask_list))}\n",
    "    return filled_list"
   ]
  },
  {
   "cell_type": "code",
   "execution_count": null,
   "metadata": {},
   "outputs": [],
   "source": [
    "# getting dependency parses from doc\n",
    "def get_parses(sentences, pos_tagger, ned=False)\n",
    "    doc_all = nlp(all_sents)\n",
    "    dependency_dict = {}\n",
    "    for i,sent in enumerate(doc_all.sentences):\n",
    "        deplist = [(word.id, word.head, word.deprel) for word in sent.words]\n",
    "        deplist = [dep for dep in deplist if dep[2] != 'root']\n",
    "        dependency_dict[i] = deplist\n",
    "    \n",
    "    target_sents_deps_labeled = {d : dependency_dict[d] for d in dependency_dict.keys() if d % 3 == 0}\n",
    "    # adds the grandparents if we want it\n",
    "    if ned:\n",
    "        for k in target_sents_deps_labeled.keys():\n",
    "            deps = target_sents_deps_labeled[k]\n",
    "            grandparents = []\n",
    "            children = [d[0] for d in deps]\n",
    "            heads = [d[1] for d in deps]\n",
    "            for d in deps:\n",
    "                head = d[1]\n",
    "                if head in children:\n",
    "                    grandparents.append((d[0], heads[children.index(head)], 'grand'))\n",
    "            target_sents_deps_labeled[k] = [*deps, *grandparents]\n",
    "    return target_sents_deps_labeled"
   ]
  },
  {
   "cell_type": "code",
   "execution_count": null,
   "metadata": {},
   "outputs": [],
   "source": [
    "if __name__ == \"__main__\":\n",
    "    stanza.download('en')\n",
    "    nlp = stanza.Pipeline('en', processors='tokenize,mwt,pos,lemma,depparse', use_gpu=True, pos_batch_size=3000)"
   ]
  }
 ],
 "metadata": {
  "kernelspec": {
   "display_name": "Python 3 (default-env)",
   "language": "python",
   "name": "default-env"
  },
  "language_info": {
   "codemirror_mode": {
    "name": "ipython",
    "version": 3
   },
   "file_extension": ".py",
   "mimetype": "text/x-python",
   "name": "python",
   "nbconvert_exporter": "python",
   "pygments_lexer": "ipython3",
   "version": "3.9.12"
  }
 },
 "nbformat": 4,
 "nbformat_minor": 4
}
