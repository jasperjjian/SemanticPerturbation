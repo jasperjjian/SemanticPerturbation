{
 "cells": [
  {
   "cell_type": "code",
   "execution_count": 1,
   "metadata": {},
   "outputs": [
    {
     "name": "stderr",
     "output_type": "stream",
     "text": [
      "/home/mila/j/jasper.jian/.conda/envs/default-env/lib/python3.9/site-packages/tqdm/auto.py:22: TqdmWarning: IProgress not found. Please update jupyter and ipywidgets. See https://ipywidgets.readthedocs.io/en/stable/user_install.html\n",
      "  from .autonotebook import tqdm as notebook_tqdm\n"
     ]
    }
   ],
   "source": [
    "import stanza\n",
    "from stanza.utils.conll import CoNLL\n",
    "from transformers import BertTokenizer, BertModel, pipeline\n",
    "import copy\n",
    "import torch"
   ]
  },
  {
   "cell_type": "code",
   "execution_count": 2,
   "metadata": {},
   "outputs": [],
   "source": [
    "device = torch.device('cuda')"
   ]
  },
  {
   "cell_type": "code",
   "execution_count": 69,
   "metadata": {},
   "outputs": [],
   "source": [
    "# text preprocessing\n",
    "def text_preprocess(filename):\n",
    "    f = open(filename, mode='r')\n",
    "    sent_list = f.readlines()\n",
    "    return sent_list\n",
    "\n",
    "# takes already annotated sentences and turns into a doc if necessary\n",
    "def parse_conll(filename):\n",
    "    doc = CoNLL.conll2doc(filename)\n",
    "    return doc\n",
    "\n",
    "def get_masks(sentences):\n",
    "    \"\"\"\n",
    "    [Sentence] -> {str : [str]}\n",
    "    \"\"\"\n",
    "    masked = {}\n",
    "    for s in sentences:\n",
    "        sent_dict = s.to_dict()\n",
    "        pert = []\n",
    "        for i in range(len(sent_dict)):\n",
    "            if 'upos' in sent_dict[i].keys() and sent_dict[i]['upos'] != 'PUNCT':\n",
    "                dict_copy = copy.deepcopy(sent_dict)\n",
    "                dict_copy[i]['text'] = '[MASK]'\n",
    "                pert.append((i, ''.join([w['text'] + ' ' if 'misc' not in w.keys() and w['id'] != len(sent_dict) else w['text'] for w in dict_copy])))\n",
    "        masked[s.text] = pert\n",
    "    return masked\n",
    "\n",
    "# gets the scores for each token in the masked sentence\n",
    "\n",
    "def fill_masks(masked_sentences, model_version='bert_base_uncased', number_words=20):\n",
    "    \"\"\"\n",
    "    [Sentence] -> {str : (int, str)}\n",
    "    \"\"\"\n",
    "    mask_dict = masked_sentences\n",
    "    unmasker = pipeline('fill-mask', model='bert-base-uncased', tokenizer='bert-base-uncased', device=0)\n",
    "    mask_list = [mask[1] for k in mask_dict.keys() for mask in mask_dict[k]]\n",
    "    filled_list = unmasker(mask_list, top_k=number_words)\n",
    "    filled_list = {mask_list[i] : [(word['score'], word['token_str']) for word in filled_list[i]] for i in range(len(mask_list))}\n",
    "    return filled_list\n",
    "\n",
    "def filter_by_pos(dependency_doc, filled_masks, pos_tagger):\n",
    "    mask_dict = get_masks(dependency_doc.sentences)\n",
    "    filtered_dict = {}\n",
    "    for s in dependency_doc.sentences():\n",
    "        sentence_text = s.text\n",
    "        masked_sentences = mask_dict[sentence_text]\n",
    "        for i, masked_sentence in enumerate(masked_sentences):\n",
    "            filtered_tokens = []\n",
    "            token_id = masked_sentence[0]\n",
    "            dict_copy = copy.deepcopy(s.to_dict())\n",
    "            pos = s.to_dict()[i].upos\n",
    "            filled_list = filled_masks[masked_sentence]\n",
    "            pert_sentences = []\n",
    "            # get a list of all the proposal perturbed sentences\n",
    "            for w in filled_list:\n",
    "                dict_copy[token_id]['text'] = w[1]\n",
    "                pert_sentence = ''.join([w['text'] + ' ' if 'misc' not in w.keys() and w['id'] != (len(s.text)) else w['text'] for w in dict_copy])\n",
    "                pert_sentences.append(pert_sentence)\n",
    "            pert_sentences_joined = '\\n\\n'.join(pert_sentences)\n",
    "            pos_doc = pos_tagger(pert_setences_joined)\n",
    "            for j, pert_s in enumerate(pos_doc.sentences):\n",
    "                if pert_s.words[token_id].upos == pos:\n",
    "                    filtered_tokens.append(filled_list[j][1])\n",
    "            if s.text in filtered_dict.keys():\n",
    "                filtered_dict[s.text].append((i, filtered_tokens))\n",
    "            else:\n",
    "                filtered_dict[s.text] = [(i, filtered_tokens)]\n",
    "    return filtered_dict"
   ]
  },
  {
   "cell_type": "code",
   "execution_count": 50,
   "metadata": {},
   "outputs": [],
   "source": [
    "token_list = get_masks(d.sentences)"
   ]
  },
  {
   "cell_type": "code",
   "execution_count": null,
   "metadata": {},
   "outputs": [
    {
     "name": "stderr",
     "output_type": "stream",
     "text": [
      "Some weights of the model checkpoint at bert-base-uncased were not used when initializing BertForMaskedLM: ['cls.seq_relationship.bias', 'cls.seq_relationship.weight']\n",
      "- This IS expected if you are initializing BertForMaskedLM from the checkpoint of a model trained on another task or with another architecture (e.g. initializing a BertForSequenceClassification model from a BertForPreTraining model).\n",
      "- This IS NOT expected if you are initializing BertForMaskedLM from the checkpoint of a model that you expect to be exactly identical (initializing a BertForSequenceClassification model from a BertForSequenceClassification model).\n"
     ]
    }
   ],
   "source": [
    "filled_masks = fill_masks(token_list)"
   ]
  },
  {
   "cell_type": "code",
   "execution_count": 22,
   "metadata": {},
   "outputs": [],
   "source": [
    "d = parse_conll('datasets/penntreebank-ewt.conllu')\n",
    "a = d.sentences[1]\n",
    "\n",
    "a = d.sentences[3]\n",
    "a.to_dict()[1]['upos']\n",
    "\n",
    "d.sentences[3].words[1].upos"
   ]
  },
  {
   "cell_type": "code",
   "execution_count": 4,
   "metadata": {},
   "outputs": [
    {
     "ename": "SyntaxError",
     "evalue": "invalid syntax (2900591857.py, line 2)",
     "output_type": "error",
     "traceback": [
      "\u001b[0;36m  Input \u001b[0;32mIn [4]\u001b[0;36m\u001b[0m\n\u001b[0;31m    def get_parses(sentences, pos_tagger, ned=False)\u001b[0m\n\u001b[0m                                                    ^\u001b[0m\n\u001b[0;31mSyntaxError\u001b[0m\u001b[0;31m:\u001b[0m invalid syntax\n"
     ]
    }
   ],
   "source": [
    "# getting dependency parses from doc\n",
    "def get_parses(sentences, pos_tagger, ned=False)\n",
    "    doc_all = nlp(all_sents)\n",
    "    dependency_dict = {}\n",
    "    for i,sent in enumerate(doc_all.sentences):\n",
    "        deplist = [(word.id, word.head, word.deprel) for word in sent.words]\n",
    "        deplist = [dep for dep in deplist if dep[2] != 'root']\n",
    "        dependency_dict[i] = deplist\n",
    "    \n",
    "    target_sents_deps_labeled = {d : dependency_dict[d] for d in dependency_dict.keys() if d % 3 == 0}\n",
    "    # adds the grandparents if we want it\n",
    "    if ned:\n",
    "        for k in target_sents_deps_labeled.keys():\n",
    "            deps = target_sents_deps_labeled[k]\n",
    "            grandparents = []\n",
    "            children = [d[0] for d in deps]\n",
    "            heads = [d[1] for d in deps]\n",
    "            for d in deps:\n",
    "                head = d[1]\n",
    "                if head in children:\n",
    "                    grandparents.append((d[0], heads[children.index(head)], 'grand'))\n",
    "            target_sents_deps_labeled[k] = [*deps, *grandparents]\n",
    "    return target_sents_deps_labeled"
   ]
  },
  {
   "cell_type": "code",
   "execution_count": 6,
   "metadata": {},
   "outputs": [
    {
     "name": "stderr",
     "output_type": "stream",
     "text": [
      "Downloading https://raw.githubusercontent.com/stanfordnlp/stanza-resources/main/resources_1.4.0.json: 154kB [00:00, 32.6MB/s]                    \n",
      "2022-05-30 11:22:18 INFO: Downloading default packages for language: en (English)...\n",
      "Downloading https://huggingface.co/stanfordnlp/stanza-en/resolve/v1.4.0/models/default.zip: 100%|██████████| 479M/479M [00:09<00:00, 49.7MB/s] \n",
      "2022-05-30 11:22:35 INFO: Finished downloading models and saved to /home/mila/j/jasper.jian/stanza_resources.\n",
      "Downloading https://raw.githubusercontent.com/stanfordnlp/stanza-resources/main/resources_1.4.0.json: 154kB [00:00, 42.2MB/s]                    \n",
      "2022-05-30 11:22:35 WARNING: Can not find mwt: default from official model list. Ignoring it.\n",
      "2022-05-30 11:22:35 INFO: Loading these models for language: en (English):\n",
      "========================\n",
      "| Processor | Package  |\n",
      "------------------------\n",
      "| tokenize  | combined |\n",
      "| pos       | combined |\n",
      "| lemma     | combined |\n",
      "| depparse  | combined |\n",
      "========================\n",
      "\n",
      "2022-05-30 11:22:35 INFO: Use device: gpu\n",
      "2022-05-30 11:22:35 INFO: Loading: tokenize\n",
      "2022-05-30 11:22:44 INFO: Loading: pos\n",
      "2022-05-30 11:22:44 INFO: Loading: lemma\n",
      "2022-05-30 11:22:44 INFO: Loading: depparse\n",
      "2022-05-30 11:22:44 INFO: Done loading processors!\n"
     ]
    }
   ],
   "source": [
    "if __name__ == \"__main__\":\n",
    "    stanza.download('en')\n",
    "    nlp = stanza.Pipeline('en', processors='tokenize,mwt,pos,lemma,depparse', use_gpu=True, pos_batch_size=3000)"
   ]
  }
 ],
 "metadata": {
  "kernelspec": {
   "display_name": "Python 3 (default-env)",
   "language": "python",
   "name": "default-env"
  },
  "language_info": {
   "codemirror_mode": {
    "name": "ipython",
    "version": 3
   },
   "file_extension": ".py",
   "mimetype": "text/x-python",
   "name": "python",
   "nbconvert_exporter": "python",
   "pygments_lexer": "ipython3",
   "version": "3.9.12"
  }
 },
 "nbformat": 4,
 "nbformat_minor": 4
}
