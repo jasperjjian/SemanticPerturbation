{
 "cells": [
  {
   "cell_type": "code",
   "execution_count": 2,
   "metadata": {},
   "outputs": [],
   "source": [
    "import stanza\n",
    "from transformers import BertTokenizer, BertModel, pipeline"
   ]
  },
  {
   "cell_type": "code",
   "execution_count": null,
   "metadata": {},
   "outputs": [],
   "source": [
    "# text preprocessing\n",
    "def text_preprocess(filename):\n",
    "    f = open(filename, mode='r')\n",
    "    sent_list = f.readlines()\n",
    "    return sent_list\n",
    "\n",
    "def parse_tre"
   ]
  },
  {
   "cell_type": "code",
   "execution_count": null,
   "metadata": {},
   "outputs": [],
   "source": [
    "# getting dependency parses\n",
    "def get_parses(sentences, pos_tagger, ned=False)\n",
    "    doc_all = nlp(all_sents)\n",
    "    dependency_dict = {}\n",
    "    for i,sent in enumerate(doc_all.sentences):\n",
    "        deplist = [(word.id, word.head, word.deprel) for word in sent.words]\n",
    "        deplist = [dep for dep in deplist if dep[2] != 'root']\n",
    "        dependency_dict[i] = deplist\n",
    "    \n",
    "    target_sents_deps_labeled = {d : dependency_dict[d] for d in dependency_dict.keys() if d % 3 == 0}\n",
    "    # adds the grandparents if we want it\n",
    "    if ned:\n",
    "        for k in target_sents_deps_labeled.keys():\n",
    "            deps = target_sents_deps_labeled[k]\n",
    "            grandparents = []\n",
    "            children = [d[0] for d in deps]\n",
    "            heads = [d[1] for d in deps]\n",
    "            for d in deps:\n",
    "                head = d[1]\n",
    "                if head in children:\n",
    "                    grandparents.append((d[0], heads[children.index(head)], 'grand'))\n",
    "            target_sents_deps_labeled[k] = [*deps, *grandparents]\n",
    "    return target_sents_deps_labeled"
   ]
  },
  {
   "cell_type": "code",
   "execution_count": 4,
   "metadata": {},
   "outputs": [],
   "source": [
    "from stanza.utils.conll import CoNLL\n",
    "doc = CoNLL.conll2doc(\"semantic-perturbation/SemanticPerturbation/datasets/penntreebank-ewt.conllu\")"
   ]
  },
  {
   "cell_type": "code",
   "execution_count": 11,
   "metadata": {},
   "outputs": [
    {
     "name": "stdout",
     "output_type": "stream",
     "text": [
      "Al-Zaman : American forces killed Shaikh Abdullah al-Ani, the preacher at the mosque in the town of Qaim, near the Syrian border.\n",
      "[This killing of a respected cleric will be causing us trouble for years to come.]\n",
      "DPA: Iraqi authorities announced that they had busted up 3 terrorist cells operating in Baghdad.\n",
      "Two of them were being run by 2 officials of the Ministry of the Interior!\n",
      "The MoI in Iraq is equivalent to the US FBI, so this would be like having J. Edgar Hoover unwittingly employ at a high level members of the Weathermen bombers back in the 1960s.\n",
      "The third was being run by the head of an investment firm.\n"
     ]
    }
   ],
   "source": [
    "for i in range(6):\n",
    "    print(doc.sentences[i].text)"
   ]
  },
  {
   "cell_type": "code",
   "execution_count": null,
   "metadata": {},
   "outputs": [],
   "source": [
    "if __name__ == \"__main__\":\n",
    "    stanza.download('en')\n",
    "    nlp = stanza.Pipeline('en', processors='tokenize,mwt,pos,lemma,depparse', use_gpu=True, pos_batch_size=3000)"
   ]
  }
 ],
 "metadata": {
  "kernelspec": {
   "display_name": "Python 3 (default-env)",
   "language": "python",
   "name": "default-env"
  },
  "language_info": {
   "codemirror_mode": {
    "name": "ipython",
    "version": 3
   },
   "file_extension": ".py",
   "mimetype": "text/x-python",
   "name": "python",
   "nbconvert_exporter": "python",
   "pygments_lexer": "ipython3",
   "version": "3.9.12"
  }
 },
 "nbformat": 4,
 "nbformat_minor": 4
}
