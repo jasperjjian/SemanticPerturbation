{
 "cells": [
  {
   "cell_type": "code",
   "execution_count": 2,
   "metadata": {},
   "outputs": [],
   "source": [
    "import stanza\n",
    "from transformers import BertTokenizer, BertModel, pipeline\n"
   ]
  },
  {
   "cell_type": "code",
   "execution_count": null,
   "metadata": {},
   "outputs": [],
   "source": [
    "# text preprocessing"
   ]
  },
  {
   "cell_type": "code",
   "execution_count": null,
   "metadata": {},
   "outputs": [],
   "source": [
    "dependency_dict = {}\n",
    "for i,sent in enumerate(doc_all.sentences):\n",
    "  #print(*[f'id: {word.id}\\tword: {word.text}\\thead id: {word.head}\\thead: {sent.words[word.head-1].text if word.head > 0 else \"root\"}\\tdeprel: {word.deprel}' for word in sent.words], sep='\\n')\n",
    "  deplist = [(word.id, word.head, word.deprel) for word in sent.words]\n",
    "  deplist = [dep for dep in deplist if dep[2] != 'root']\n",
    "  #print(deplist)\n",
    "  #print('\\n')\n",
    "  dependency_dict[i] = deplist\n",
    "\n",
    "target_sents_deps_labeled = {d : dependency_dict[d] for d in dependency_dict.keys() if d % 3 == 0}\n",
    "target_sents_deps_unlabeled = {d : [target_sents_deps_labeled[d][i][:-1] for i in range(len(target_sents_deps_labeled[d]))] for d in target_sents_deps_labeled.keys()}"
   ]
  },
  {
   "cell_type": "code",
   "execution_count": null,
   "metadata": {},
   "outputs": [],
   "source": [
    "if __name__ == \"__main__\":\n",
    "    stanza.download('en')\n",
    "    nlp = stanza.Pipeline('en', processors='tokenize,mwt,pos,lemma,depparse', use_gpu=False, pos_batch_size=3000)"
   ]
  }
 ],
 "metadata": {
  "kernelspec": {
   "display_name": "Python 3 (default-env)",
   "language": "python",
   "name": "default-env"
  },
  "language_info": {
   "codemirror_mode": {
    "name": "ipython",
    "version": 3
   },
   "file_extension": ".py",
   "mimetype": "text/x-python",
   "name": "python",
   "nbconvert_exporter": "python",
   "pygments_lexer": "ipython3",
   "version": "3.9.12"
  }
 },
 "nbformat": 4,
 "nbformat_minor": 4
}
